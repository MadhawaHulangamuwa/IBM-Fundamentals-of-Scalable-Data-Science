{
    "cells": [
        {
            "cell_type": "markdown",
            "metadata": {},
            "source": "This notebook is designed to run in a IBM Watson Studio default runtime (NOT the Watson Studio Apache Spark Runtime as the default runtime with 1 vCPU is free of charge). Therefore, we install Apache Spark in local mode for test purposes only. Please don't use it in production.\n\nIn case you are facing issues, please read the following two documents first:\n\nhttps://github.com/IBM/skillsnetwork/wiki/Environment-Setup\n\nhttps://github.com/IBM/skillsnetwork/wiki/FAQ\n\nThen, please feel free to ask:\n\nhttps://coursera.org/learn/machine-learning-big-data-apache-spark/discussions/all\n\nPlease make sure to follow the guidelines before asking a question:\n\nhttps://github.com/IBM/skillsnetwork/wiki/FAQ#im-feeling-lost-and-confused-please-help-me\n\n\nIf running outside Watson Studio, this should work as well. In case you are running in an Apache Spark context outside Watson Studio, please remove the Apache Spark setup in the first notebook cells."
        },
        {
            "cell_type": "code",
            "execution_count": 6,
            "metadata": {},
            "outputs": [],
            "source": "from IPython.display import Markdown, display\ndef printmd(string):\n    display(Markdown('# <span style=\"color:red\">'+string+'</span>'))\n\n\nif ('sc' in locals() or 'sc' in globals()):\n    printmd('<<<<<!!!!! It seems that you are running in a IBM Watson Studio Apache Spark Notebook. Please run it in an IBM Watson Studio Default Runtime (without Apache Spark) !!!!!>>>>>')\n"
        },
        {
            "cell_type": "code",
            "execution_count": 7,
            "metadata": {},
            "outputs": [
                {
                    "name": "stdout",
                    "output_type": "stream",
                    "text": "Requirement already satisfied: pyspark==2.4.5 in /opt/conda/envs/Python-3.10/lib/python3.10/site-packages (2.4.5)\r\nRequirement already satisfied: py4j==0.10.7 in /opt/conda/envs/Python-3.10/lib/python3.10/site-packages (from pyspark==2.4.5) (0.10.7)\r\n"
                }
            ],
            "source": "!pip install pyspark==2.4.5"
        },
        {
            "cell_type": "code",
            "execution_count": 11,
            "metadata": {},
            "outputs": [
                {
                    "name": "stdout",
                    "output_type": "stream",
                    "text": "Requirement already satisfied: pyspark in /opt/conda/envs/Python-3.10/lib/python3.10/site-packages (2.4.5)\nCollecting pyspark\n  Downloading pyspark-3.4.1.tar.gz (310.8 MB)\n\u001b[2K     \u001b[90m\u2501\u2501\u2501\u2501\u2501\u2501\u2501\u2501\u2501\u2501\u2501\u2501\u2501\u2501\u2501\u2501\u2501\u2501\u2501\u2501\u2501\u2501\u2501\u2501\u2501\u2501\u2501\u2501\u2501\u2501\u2501\u2501\u2501\u2501\u2501\u2501\u2501\u2501\u2501\u001b[0m \u001b[32m310.8/310.8 MB\u001b[0m \u001b[31m7.2 MB/s\u001b[0m eta \u001b[36m0:00:00\u001b[0m00:01\u001b[0m00:01\u001b[0m\n\u001b[?25h  Preparing metadata (setup.py) ... \u001b[?25ldone\n\u001b[?25hRequirement already satisfied: cloudpickle in /opt/conda/envs/Python-3.10/lib/python3.10/site-packages (2.1.0)\nCollecting cloudpickle\n  Downloading cloudpickle-2.2.1-py3-none-any.whl (25 kB)\nCollecting py4j==0.10.9.7\n  Downloading py4j-0.10.9.7-py2.py3-none-any.whl (200 kB)\n\u001b[2K     \u001b[90m\u2501\u2501\u2501\u2501\u2501\u2501\u2501\u2501\u2501\u2501\u2501\u2501\u2501\u2501\u2501\u2501\u2501\u2501\u2501\u2501\u2501\u2501\u2501\u2501\u2501\u2501\u2501\u2501\u2501\u2501\u2501\u2501\u2501\u2501\u2501\u2501\u2501\u2501\u001b[0m \u001b[32m200.5/200.5 kB\u001b[0m \u001b[31m44.6 MB/s\u001b[0m eta \u001b[36m0:00:00\u001b[0m\n\u001b[?25hBuilding wheels for collected packages: pyspark\n  Building wheel for pyspark (setup.py) ... \u001b[?25ldone\n\u001b[?25h  Created wheel for pyspark: filename=pyspark-3.4.1-py2.py3-none-any.whl size=311285412 sha256=3d7af1654c9edd70a0b1ea7c06e1519472eb8269a2697d1ce8f081b3fbfa1d38\n  Stored in directory: /tmp/wsuser/.cache/pip/wheels/0d/77/a3/ff2f74cc9ab41f8f594dabf0579c2a7c6de920d584206e0834\nSuccessfully built pyspark\nInstalling collected packages: py4j, pyspark, cloudpickle\n  Attempting uninstall: py4j\n    Found existing installation: py4j 0.10.7\n    Uninstalling py4j-0.10.7:\n      Successfully uninstalled py4j-0.10.7\n  Attempting uninstall: pyspark\n    Found existing installation: pyspark 2.4.5\n    Uninstalling pyspark-2.4.5:\n      Successfully uninstalled pyspark-2.4.5\n  Attempting uninstall: cloudpickle\n    Found existing installation: cloudpickle 2.1.0\n    Uninstalling cloudpickle-2.1.0:\n      Successfully uninstalled cloudpickle-2.1.0\nSuccessfully installed cloudpickle-2.2.1 py4j-0.10.9.7 pyspark-3.4.1\nNote: you may need to restart the kernel to use updated packages.\n"
                }
            ],
            "source": "pip install --upgrade pyspark cloudpickle"
        },
        {
            "cell_type": "code",
            "execution_count": 1,
            "metadata": {},
            "outputs": [],
            "source": "try:\n    from pyspark import SparkContext, SparkConf\n    from pyspark.sql import SparkSession\nexcept ImportError as e:\n    printmd('<<<<<!!!!! Please restart your kernel after installing Apache Spark !!!!!>>>>>')"
        },
        {
            "cell_type": "code",
            "execution_count": 2,
            "metadata": {},
            "outputs": [
                {
                    "name": "stderr",
                    "output_type": "stream",
                    "text": "Setting default log level to \"WARN\".\nTo adjust logging level use sc.setLogLevel(newLevel). For SparkR, use setLogLevel(newLevel).\n23/07/18 08:50:52 WARN NativeCodeLoader: Unable to load native-hadoop library for your platform... using builtin-java classes where applicable\n"
                }
            ],
            "source": "from pyspark import SparkContext, SparkConf\nfrom pyspark.sql import SparkSession\n\nsc = SparkContext.getOrCreate(SparkConf().setMaster(\"local[*]\"))\n\nspark = SparkSession \\\n    .builder \\\n    .getOrCreate()"
        },
        {
            "cell_type": "markdown",
            "metadata": {},
            "source": "# Exercise 2\n## Part 1\nNow let's calculate covariance and correlation by ourselves using ApacheSpark\n\n1st we crate two random RDD\u2019s, which shouldn't correlate at all.\n"
        },
        {
            "cell_type": "code",
            "execution_count": 3,
            "metadata": {},
            "outputs": [],
            "source": "import random\nrddX = sc.parallelize(random.sample(list(range(100)),100))\nrddY = sc.parallelize(random.sample(list(range(100)),100))"
        },
        {
            "cell_type": "markdown",
            "metadata": {},
            "source": "Now we calculate the mean, note that we explicitly cast the denominator to float in order to obtain a float instead of int"
        },
        {
            "cell_type": "code",
            "execution_count": 4,
            "metadata": {},
            "outputs": [
                {
                    "name": "stderr",
                    "output_type": "stream",
                    "text": "                                                                                \r"
                },
                {
                    "name": "stdout",
                    "output_type": "stream",
                    "text": "49.5\n49.5\n"
                }
            ],
            "source": "meanX = rddX.sum()/float(rddX.count())\nmeanY = rddY.sum()/float(rddY.count())\nprint (meanX)\nprint (meanY)"
        },
        {
            "cell_type": "markdown",
            "metadata": {},
            "source": "Now we calculate the covariance"
        },
        {
            "cell_type": "code",
            "execution_count": 6,
            "metadata": {},
            "outputs": [
                {
                    "data": {
                        "text/plain": "-50.96"
                    },
                    "execution_count": 6,
                    "metadata": {},
                    "output_type": "execute_result"
                }
            ],
            "source": "rddXY = rddX.zip(rddY)\ncovXY = rddXY.map(lambda x_y : (x_y[0]-meanX)*(x_y[1]-meanY)).sum()/rddXY.count()\ncovXY"
        },
        {
            "cell_type": "markdown",
            "metadata": {},
            "source": "Covariance is not a normalized measure. Therefore we use it to calculate correlation. But before that we need to calculate the indivicual standard deviations first"
        },
        {
            "cell_type": "code",
            "execution_count": 8,
            "metadata": {},
            "outputs": [
                {
                    "name": "stdout",
                    "output_type": "stream",
                    "text": "28.86607004772212\n28.86607004772212\n"
                }
            ],
            "source": "from math import sqrt\nn = rddXY.count()\nsdX = sqrt(rddX.map(lambda x : pow(x-meanX,2)).sum()/n)\nsdY = sqrt(rddY.map(lambda x : pow(x-meanY,2)).sum()/n)\nprint (sdX)\nprint (sdY)"
        },
        {
            "cell_type": "markdown",
            "metadata": {},
            "source": "Now we calculate the correlation"
        },
        {
            "cell_type": "code",
            "execution_count": 9,
            "metadata": {},
            "outputs": [
                {
                    "data": {
                        "text/plain": "-0.06115811581158116"
                    },
                    "execution_count": 9,
                    "metadata": {},
                    "output_type": "execute_result"
                }
            ],
            "source": "corrXY = covXY / (sdX * sdY)\ncorrXY"
        },
        {
            "cell_type": "markdown",
            "metadata": {},
            "source": "## Part 2\nNo we want to create a correlation matrix out of the four RDDs used in the lecture"
        },
        {
            "cell_type": "code",
            "execution_count": 15,
            "metadata": {},
            "outputs": [
                {
                    "name": "stdout",
                    "output_type": "stream",
                    "text": "[[ 1.          1.         -1.          0.06967897]\n [ 1.          1.         -1.          0.06967897]\n [-1.         -1.          1.         -0.06967897]\n [ 0.06967897  0.06967897 -0.06967897  1.        ]]\n"
                }
            ],
            "source": "from pyspark.mllib.stat import Statistics\nimport random\ncolumn1 = sc.parallelize(range(100))\ncolumn2 = sc.parallelize(range(100,200))\ncolumn3 = sc.parallelize(list(reversed(range(100))))\ncolumn4 = sc.parallelize(random.sample(range(100),100))\ndata = column1.zip(column2).zip(column3).zip(column4).map(lambda a_b_c_d : (a_b_c_d[0][0][0],a_b_c_d[0][0][1],a_b_c_d[0][1],a_b_c_d[1]) ).map(lambda a_b_c_d : [a_b_c_d[0],a_b_c_d[1],a_b_c_d[2],a_b_c_d[3]])\nprint(Statistics.corr(data))"
        },
        {
            "cell_type": "code",
            "execution_count": null,
            "metadata": {},
            "outputs": [],
            "source": ""
        },
        {
            "cell_type": "markdown",
            "metadata": {
                "collapsed": true
            },
            "source": "Congratulations, you are done with Exercice 2"
        },
        {
            "cell_type": "markdown",
            "metadata": {},
            "source": "## Practice Exercise"
        },
        {
            "cell_type": "markdown",
            "metadata": {},
            "source": "### Mean calculation"
        },
        {
            "cell_type": "code",
            "execution_count": 32,
            "metadata": {},
            "outputs": [
                {
                    "name": "stdout",
                    "output_type": "stream",
                    "text": "49.5\n49.5\n"
                }
            ],
            "source": "rddx = sc.parallelize(range(100))\nrddy = sc.parallelize(range(100))\n\nnx = rddx.count()\nny = rddy.count()\n\n# print(rddx.collect())\n# print(rddy.collect())\n\nmeanx = rddx.sum()/(rddx.count())\nmeany = rddy.sum()/(rddy.count())\nprint(meany)"
        },
        {
            "cell_type": "code",
            "execution_count": 33,
            "metadata": {},
            "outputs": [
                {
                    "name": "stdout",
                    "output_type": "stream",
                    "text": "49.5\n49.5\n"
                }
            ],
            "source": "rddX = sc.parallelize(random.sample(list(range(100)),100))\nrddY = sc.parallelize(random.sample(list(range(100)),100))\nrddX.collect()\nrddY.collect()\n\nmeanX = rddX.sum()/float(rddX.count())\nmeanY = rddX.sum()/float(rddX.count())\n\nmeanX = rddX.sum()/float(rddX.count())\nmeanY = rddY.sum()/float(rddY.count())\nprint (meanX)\nprint (meanY)"
        },
        {
            "cell_type": "markdown",
            "metadata": {},
            "source": "### Standard variation calculation"
        },
        {
            "cell_type": "code",
            "execution_count": 39,
            "metadata": {},
            "outputs": [
                {
                    "name": "stdout",
                    "output_type": "stream",
                    "text": "28.86607004772212\n28.86607004772212\n"
                }
            ],
            "source": "from math import sqrt\nn = rddX.count()\nsdX = sqrt(rddX.map(lambda x : pow(x-meanX,2)).sum()/n)\nsdY = sqrt(rddY.map(lambda x : pow(x-meanY,2)).sum()/n)\n\nprint(sdX)\nprint(sdY)"
        },
        {
            "cell_type": "markdown",
            "metadata": {},
            "source": "### Covariance calculation"
        },
        {
            "cell_type": "code",
            "execution_count": 40,
            "metadata": {},
            "outputs": [
                {
                    "data": {
                        "text/plain": "-37.93"
                    },
                    "execution_count": 40,
                    "metadata": {},
                    "output_type": "execute_result"
                }
            ],
            "source": "rddXY = rddX.zip(rddY)\ncovXY = rddXY.map(lambda x_y : (x_y[0]-meanX)*(x_y[1]-meanY)).sum()/rddXY.count()\ncovXY"
        },
        {
            "cell_type": "code",
            "execution_count": 41,
            "metadata": {},
            "outputs": [
                {
                    "data": {
                        "text/plain": "[(2, 86),\n (64, 35),\n (47, 76),\n (15, 72),\n (56, 18),\n (97, 25),\n (58, 92),\n (13, 64),\n (36, 61),\n (11, 41),\n (27, 85),\n (71, 8),\n (88, 77),\n (60, 98),\n (72, 10),\n (62, 97),\n (1, 90),\n (50, 88),\n (76, 1),\n (83, 6),\n (7, 46),\n (99, 47),\n (43, 91),\n (9, 12),\n (12, 13),\n (53, 55),\n (8, 51),\n (78, 30),\n (65, 57),\n (24, 21),\n (40, 15),\n (81, 59),\n (57, 40),\n (96, 53),\n (23, 22),\n (46, 31),\n (79, 87),\n (33, 24),\n (59, 60),\n (45, 16),\n (75, 78),\n (42, 28),\n (31, 48),\n (85, 67),\n (38, 68),\n (94, 27),\n (84, 49),\n (93, 65),\n (32, 74),\n (41, 81),\n (68, 96),\n (5, 45),\n (95, 7),\n (48, 11),\n (19, 26),\n (73, 23),\n (18, 54),\n (74, 9),\n (17, 14),\n (10, 75),\n (37, 89),\n (39, 50),\n (6, 62),\n (52, 2),\n (21, 80),\n (69, 20),\n (44, 83),\n (66, 94),\n (54, 70),\n (20, 56),\n (29, 84),\n (30, 58),\n (63, 79),\n (25, 5),\n (61, 66),\n (77, 95),\n (3, 93),\n (35, 39),\n (92, 29),\n (22, 52),\n (82, 73),\n (49, 32),\n (16, 4),\n (34, 71),\n (0, 37),\n (55, 38),\n (67, 69),\n (90, 82),\n (14, 19),\n (87, 63),\n (86, 36),\n (28, 0),\n (70, 42),\n (98, 3),\n (26, 17),\n (91, 43),\n (4, 44),\n (89, 33),\n (51, 99),\n (80, 34)]"
                    },
                    "execution_count": 41,
                    "metadata": {},
                    "output_type": "execute_result"
                }
            ],
            "source": "rddXY = rddX.zip(rddY)\nrddXY.collect()"
        },
        {
            "cell_type": "code",
            "execution_count": null,
            "metadata": {},
            "outputs": [],
            "source": ""
        }
    ],
    "metadata": {
        "kernelspec": {
            "display_name": "Python 3.10",
            "language": "python",
            "name": "python3"
        },
        "language_info": {
            "codemirror_mode": {
                "name": "ipython",
                "version": 3
            },
            "file_extension": ".py",
            "mimetype": "text/x-python",
            "name": "python",
            "nbconvert_exporter": "python",
            "pygments_lexer": "ipython3",
            "version": "3.10.9"
        }
    },
    "nbformat": 4,
    "nbformat_minor": 1
}